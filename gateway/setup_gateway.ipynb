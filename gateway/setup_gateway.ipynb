{
 "cells": [
  {
   "cell_type": "markdown",
   "metadata": {},
   "source": [
    "# Amazon Bedrock AgentCore Gatewayのセットアップ"
   ]
  },
  {
   "cell_type": "markdown",
   "metadata": {},
   "source": [
    "## AgentCore Gateway用のCognito User Poolの作成"
   ]
  },
  {
   "cell_type": "code",
   "execution_count": null,
   "metadata": {},
   "outputs": [],
   "source": [
    "# Import SDK and set up client\n",
    "from bedrock_agentcore_starter_toolkit.operations.gateway.client import GatewayClient\n",
    "client = GatewayClient()"
   ]
  },
  {
   "cell_type": "code",
   "execution_count": null,
   "metadata": {
    "scrolled": true
   },
   "outputs": [],
   "source": [
    "# Retrieve the authorization configuration from the create response. When you create the gateway, specify it in the authorizer_config field\n",
    "cognito_result = client.create_oauth_authorizer_with_cognito(\"my-gateway\")\n",
    "authorizer_configuration = cognito_result[\"authorizer_config\"]"
   ]
  },
  {
   "cell_type": "code",
   "execution_count": null,
   "metadata": {},
   "outputs": [],
   "source": [
    "authorizer_configuration"
   ]
  },
  {
   "cell_type": "code",
   "execution_count": null,
   "metadata": {},
   "outputs": [],
   "source": [
    "import json\n",
    "with open('agentcore_cognito_config.json', 'w') as f:\n",
    "    json.dump(authorizer_configuration, f, indent=2, ensure_ascii=False)"
   ]
  },
  {
   "cell_type": "markdown",
   "metadata": {},
   "source": [
    "## AgentCore Gatewayの作成"
   ]
  },
  {
   "cell_type": "code",
   "execution_count": null,
   "metadata": {},
   "outputs": [],
   "source": [
    "# create the gateway.\n",
    "gateway = client.create_mcp_gateway(\n",
    "  name=\"github-mcp-gateway\", # the name of the Gateway - if you don't set one, one will be generated.\n",
    "  role_arn=None, # the role arn that the Gateway will use - if you don't set one, one will be created.\n",
    "  authorizer_config=authorizer_configuration, # Variable from inbound authorization setup steps. Contains the OAuth authorizer details for authorizing callers to your Gateway (MCP only supports OAuth).\n",
    "  enable_semantic_search=True, # enable semantic search.\n",
    ")\n"
   ]
  },
  {
   "cell_type": "markdown",
   "metadata": {},
   "source": [
    "## GatewayのTarget用Lambda関数の作成"
   ]
  },
  {
   "cell_type": "code",
   "execution_count": null,
   "metadata": {},
   "outputs": [],
   "source": [
    "import boto3\n",
    "import json \n",
    "\n",
    "iam = boto3.client('iam')\n",
    "\n",
    "# Lambda実行ロールを作成\n",
    "trust_policy = {\n",
    "    \"Version\": \"2012-10-17\",\n",
    "    \"Statement\": [\n",
    "        {\n",
    "            \"Effect\": \"Allow\",\n",
    "            \"Principal\": {\"Service\": \"lambda.amazonaws.com\"},\n",
    "            \"Action\": \"sts:AssumeRole\"\n",
    "        }\n",
    "    ]\n",
    "}\n",
    "\n",
    "iam.create_role(\n",
    "    RoleName='lambda-execution-role',\n",
    "    AssumeRolePolicyDocument=json.dumps(trust_policy)\n",
    ")\n",
    "\n",
    "# 基本実行ポリシーをアタッチ\n",
    "iam.attach_role_policy(\n",
    "    RoleName='lambda-execution-role',\n",
    "    PolicyArn='arn:aws:iam::aws:policy/service-role/AWSLambdaBasicExecutionRole'\n",
    ")\n"
   ]
  },
  {
   "cell_type": "code",
   "execution_count": null,
   "metadata": {},
   "outputs": [],
   "source": [
    "import zipfile\n",
    "\"\"\"Lambda関数のデプロイメントパッケージを作成\"\"\"\n",
    "zip_filename = 'lambda_function.zip'\n",
    "\n",
    "with zipfile.ZipFile(zip_filename, 'w') as zip_file:\n",
    "    # メインのLambda関数ファイルを追加\n",
    "    zip_file.write('external_api_lambda.py', 'lambda_function.py')\n",
    "    \n",
    "    # 必要に応じて他のファイルも追加\n",
    "    # zip_file.write('requirements.txt')"
   ]
  },
  {
   "cell_type": "code",
   "execution_count": null,
   "metadata": {},
   "outputs": [],
   "source": [
    "sts = boto3.client('sts')\n",
    "account_id = sts.get_caller_identity()['Account']"
   ]
  },
  {
   "cell_type": "code",
   "execution_count": null,
   "metadata": {},
   "outputs": [],
   "source": [
    "\n",
    "\"\"\"Lambda関数をデプロイ\"\"\"\n",
    "lambda_client = boto3.client('lambda')\n",
    "\n",
    "# ZIPファイルを読み込み\n",
    "with open(zip_filename, 'rb') as zip_file:\n",
    "    zip_content = zip_file.read()\n",
    "\n",
    "function_name = 'agentcore-external-api'\n",
    "\n",
    "try:\n",
    "    # 既存の関数を更新\n",
    "    response = lambda_client.update_function_code(\n",
    "        FunctionName=function_name,\n",
    "        ZipFile=zip_content\n",
    "    )\n",
    "    print(f\"Lambda関数を更新しました: {response['FunctionArn']}\")\n",
    "    \n",
    "except lambda_client.exceptions.ResourceNotFoundException:\n",
    "    # 新規作成\n",
    "    response = lambda_client.create_function(\n",
    "        FunctionName=function_name,\n",
    "        Runtime='python3.13',\n",
    "        Role=f'arn:aws:iam::{account_id}:role/lambda-execution-role',\n",
    "        Handler='lambda_function.lambda_handler',\n",
    "        Code={'ZipFile': zip_content},\n",
    "        Description='AgentCore External API Lambda',\n",
    "        Timeout=300,\n",
    "        MemorySize=128\n",
    "    )\n",
    "    print(f\"arn: {response['FunctionArn']}\")\n",
    "\n",
    "# 一時ファイルを削除\n",
    "os.remove(zip_filename)"
   ]
  },
  {
   "cell_type": "markdown",
   "metadata": {},
   "source": [
    "## Targetの作成"
   ]
  },
  {
   "cell_type": "code",
   "execution_count": null,
   "metadata": {},
   "outputs": [],
   "source": [
    "\n",
    "config = None\n",
    "\n",
    "with open(\"lambda_tools_schema.json\", 'rb') as file:\n",
    "    schema = json.load(file)\n",
    "\n",
    "    config = {\n",
    "        \"lambdaArn\":response['FunctionArn'],\n",
    "        \"toolSchema\": {\n",
    "            \"inlinePayload\": schema\n",
    "        }\n",
    "    }"
   ]
  },
  {
   "cell_type": "code",
   "execution_count": null,
   "metadata": {},
   "outputs": [],
   "source": [
    "\n",
    "# create a lambda target.\n",
    "lambda_target = client.create_mcp_gateway_target(\n",
    "    gateway={\n",
    "        'gatewayId': 'github-mcp-gateway-htgcptu9xd',\n",
    "    }, \n",
    "    name=\"github-mcp-function\", # the name of the Target - if you don't set one, one will be generated.\n",
    "    target_type=\"lambda\", # the type of the Target - you will see other target types later in the tutorial.\n",
    "    target_payload=config, # the target details - set this to define your own lambda if you pre-created one. Otherwise leave this None and one will be created for you.\n",
    "    credentials=None, # you will see later in the tutorial how to use this to connect to APIs using API keys and OAuth credentials.\n",
    ")\n"
   ]
  }
 ],
 "metadata": {
  "kernelspec": {
   "display_name": "Python 3 (ipykernel)",
   "language": "python",
   "name": "python3"
  },
  "language_info": {
   "codemirror_mode": {
    "name": "ipython",
    "version": 3
   },
   "file_extension": ".py",
   "mimetype": "text/x-python",
   "name": "python",
   "nbconvert_exporter": "python",
   "pygments_lexer": "ipython3",
   "version": "3.13.5"
  }
 },
 "nbformat": 4,
 "nbformat_minor": 4
}
